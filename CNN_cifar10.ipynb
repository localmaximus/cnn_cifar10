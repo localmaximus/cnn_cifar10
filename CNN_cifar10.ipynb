{
  "nbformat": 4,
  "nbformat_minor": 0,
  "metadata": {
    "colab": {
      "name": "CNN cifar10.ipynb",
      "provenance": []
    },
    "kernelspec": {
      "name": "python3",
      "display_name": "Python 3"
    }
  },
  "cells": [
    {
      "cell_type": "code",
      "metadata": {
        "id": "KiJBbwJz6IAC"
      },
      "source": [
        "import tensorflow as tf"
      ],
      "execution_count": null,
      "outputs": []
    },
    {
      "cell_type": "code",
      "metadata": {
        "id": "JVbL4YHI63AW"
      },
      "source": [
        "from tensorflow.keras.layers import Flatten, Conv2D, Input, Dense, Dropout\n",
        "from tensorflow.keras.models import Model"
      ],
      "execution_count": null,
      "outputs": []
    },
    {
      "cell_type": "code",
      "metadata": {
        "id": "JnF16KmT7IRN"
      },
      "source": [
        "cifar10 = tf.keras.datasets.cifar10"
      ],
      "execution_count": null,
      "outputs": []
    },
    {
      "cell_type": "code",
      "metadata": {
        "id": "MJMwD6ky9DvW",
        "colab": {
          "base_uri": "https://localhost:8080/",
          "height": 52
        },
        "outputId": "7e589a65-1eaa-4eca-f790-8565a21a4611"
      },
      "source": [
        "(X_train, Y_train), (x_test, y_test) = cifar10.load_data()"
      ],
      "execution_count": null,
      "outputs": [
        {
          "output_type": "stream",
          "text": [
            "Downloading data from https://www.cs.toronto.edu/~kriz/cifar-10-python.tar.gz\n",
            "170500096/170498071 [==============================] - 4s 0us/step\n"
          ],
          "name": "stdout"
        }
      ]
    },
    {
      "cell_type": "code",
      "metadata": {
        "id": "lXP4zQlw9JnM"
      },
      "source": [
        "X_train = X_train / 255\n",
        "x_test = x_test / 255"
      ],
      "execution_count": null,
      "outputs": []
    },
    {
      "cell_type": "code",
      "metadata": {
        "id": "Me_r6t4-9VOQ"
      },
      "source": [
        "import numpy as np\n",
        "Y_train = np.squeeze(Y_train, axis = -1)\n",
        "y_test = np.squeeze(y_test, axis = -1)"
      ],
      "execution_count": null,
      "outputs": []
    },
    {
      "cell_type": "code",
      "metadata": {
        "id": "ZMcj4GLP9j7N",
        "colab": {
          "base_uri": "https://localhost:8080/",
          "height": 52
        },
        "outputId": "6f303653-35cf-420a-bc07-f900244665f9"
      },
      "source": [
        "print(y_test.shape)\n",
        "print(Y_train.shape)"
      ],
      "execution_count": null,
      "outputs": [
        {
          "output_type": "stream",
          "text": [
            "(10000,)\n",
            "(50000,)\n"
          ],
          "name": "stdout"
        }
      ]
    },
    {
      "cell_type": "code",
      "metadata": {
        "id": "O1v_I7ra_eh9",
        "colab": {
          "base_uri": "https://localhost:8080/",
          "height": 35
        },
        "outputId": "992513e4-d6c9-4488-b388-a7a0d3b19e5a"
      },
      "source": [
        "k = len(set(Y_train))\n",
        "print('number of output nodes: ', k)"
      ],
      "execution_count": null,
      "outputs": [
        {
          "output_type": "stream",
          "text": [
            "number of output nodes:  10\n"
          ],
          "name": "stdout"
        }
      ]
    },
    {
      "cell_type": "code",
      "metadata": {
        "id": "iBtrRhZFAcoV",
        "colab": {
          "base_uri": "https://localhost:8080/",
          "height": 52
        },
        "outputId": "fa85a7d7-70e2-4f95-a73a-204fc1782967"
      },
      "source": [
        "i = Input(shape=X_train[0].shape)\n",
        "x = Conv2D(32, (3,3), strides=2, activation='relu')(i)\n",
        "x = Conv2D(64, (3,3), strides=2, activation='relu')(x)\n",
        "x = Conv2D(128, (3,3), strides=2, activation='relu')(x)\n",
        "print(x.shape)\n",
        "x = Flatten()(x)\n",
        "print(x.shape)\n",
        "x = Dropout(0.5)(x)\n",
        "x = Dense(128, activation='relu')(x)\n",
        "x = Dropout(0.2)(x)\n",
        "x = Dense(k, activation='softmax')(x)"
      ],
      "execution_count": null,
      "outputs": [
        {
          "output_type": "stream",
          "text": [
            "(None, 3, 3, 128)\n",
            "(None, 1152)\n"
          ],
          "name": "stdout"
        }
      ]
    },
    {
      "cell_type": "code",
      "metadata": {
        "id": "TtByR_GWDYAH"
      },
      "source": [
        "model = Model(i,x)"
      ],
      "execution_count": null,
      "outputs": []
    },
    {
      "cell_type": "code",
      "metadata": {
        "id": "iZbsHjPtFH5Y"
      },
      "source": [
        "model.compile(optimizer='adam',\n",
        "              loss = 'sparse_categorical_crossentropy',\n",
        "              metrics = ['accuracy'])\n"
      ],
      "execution_count": null,
      "outputs": []
    },
    {
      "cell_type": "code",
      "metadata": {
        "id": "6aozd7blFKQu",
        "colab": {
          "base_uri": "https://localhost:8080/",
          "height": 537
        },
        "outputId": "2321b113-2ae3-4d7c-80a1-fd6bb58f0648"
      },
      "source": [
        "r = model.fit(X_train, Y_train, validation_data=(x_test, y_test), epochs=15)"
      ],
      "execution_count": null,
      "outputs": [
        {
          "output_type": "stream",
          "text": [
            "Epoch 1/15\n",
            "1563/1563 [==============================] - 28s 18ms/step - loss: 1.6566 - accuracy: 0.3918 - val_loss: 1.3415 - val_accuracy: 0.5145\n",
            "Epoch 2/15\n",
            "1563/1563 [==============================] - 28s 18ms/step - loss: 1.3380 - accuracy: 0.5149 - val_loss: 1.2016 - val_accuracy: 0.5709\n",
            "Epoch 3/15\n",
            "1563/1563 [==============================] - 27s 17ms/step - loss: 1.2209 - accuracy: 0.5617 - val_loss: 1.0738 - val_accuracy: 0.6217\n",
            "Epoch 4/15\n",
            "1563/1563 [==============================] - 27s 18ms/step - loss: 1.1431 - accuracy: 0.5931 - val_loss: 1.0176 - val_accuracy: 0.6410\n",
            "Epoch 5/15\n",
            "1563/1563 [==============================] - 28s 18ms/step - loss: 1.0810 - accuracy: 0.6144 - val_loss: 0.9973 - val_accuracy: 0.6508\n",
            "Epoch 6/15\n",
            "1563/1563 [==============================] - 28s 18ms/step - loss: 1.0276 - accuracy: 0.6337 - val_loss: 0.9346 - val_accuracy: 0.6709\n",
            "Epoch 7/15\n",
            "1563/1563 [==============================] - 27s 18ms/step - loss: 0.9853 - accuracy: 0.6494 - val_loss: 0.9015 - val_accuracy: 0.6831\n",
            "Epoch 8/15\n",
            "1563/1563 [==============================] - 27s 18ms/step - loss: 0.9413 - accuracy: 0.6646 - val_loss: 0.9084 - val_accuracy: 0.6824\n",
            "Epoch 9/15\n",
            "1563/1563 [==============================] - 27s 17ms/step - loss: 0.9134 - accuracy: 0.6741 - val_loss: 0.8921 - val_accuracy: 0.6873\n",
            "Epoch 10/15\n",
            "1563/1563 [==============================] - 27s 17ms/step - loss: 0.8831 - accuracy: 0.6874 - val_loss: 0.8771 - val_accuracy: 0.6954\n",
            "Epoch 11/15\n",
            "1563/1563 [==============================] - 27s 17ms/step - loss: 0.8582 - accuracy: 0.6949 - val_loss: 0.8824 - val_accuracy: 0.6906\n",
            "Epoch 12/15\n",
            "1563/1563 [==============================] - 27s 17ms/step - loss: 0.8373 - accuracy: 0.6996 - val_loss: 0.8387 - val_accuracy: 0.7112\n",
            "Epoch 13/15\n",
            "1563/1563 [==============================] - 27s 17ms/step - loss: 0.8160 - accuracy: 0.7061 - val_loss: 0.8421 - val_accuracy: 0.7086\n",
            "Epoch 14/15\n",
            "1563/1563 [==============================] - 27s 17ms/step - loss: 0.8037 - accuracy: 0.7131 - val_loss: 0.8457 - val_accuracy: 0.7061\n",
            "Epoch 15/15\n",
            "1563/1563 [==============================] - 27s 17ms/step - loss: 0.7831 - accuracy: 0.7209 - val_loss: 0.8442 - val_accuracy: 0.7047\n"
          ],
          "name": "stdout"
        }
      ]
    },
    {
      "cell_type": "code",
      "metadata": {
        "id": "NPst3JFSFhBv"
      },
      "source": [
        "import matplotlib.pyplot as plt\n"
      ],
      "execution_count": null,
      "outputs": []
    },
    {
      "cell_type": "code",
      "metadata": {
        "id": "qjP-_retGzjQ",
        "colab": {
          "base_uri": "https://localhost:8080/",
          "height": 283
        },
        "outputId": "c93ca657-fb8b-45ef-f48b-6555e042b2e4"
      },
      "source": [
        "plt.plot(r.history['accuracy'], label = 'acc')\n",
        "plt.plot(r.history['val_accuracy'], label = 'val_acc')\n",
        "plt.legend()"
      ],
      "execution_count": null,
      "outputs": [
        {
          "output_type": "execute_result",
          "data": {
            "text/plain": [
              "<matplotlib.legend.Legend at 0x7f761468a5f8>"
            ]
          },
          "metadata": {
            "tags": []
          },
          "execution_count": 14
        },
        {
          "output_type": "display_data",
          "data": {
            "image/png": "[encoded data removed]",
            "text/plain": [
              "<Figure size 432x288 with 1 Axes>"
            ]
          },
          "metadata": {
            "tags": [],
            "needs_background": "light"
          }
        }
      ]
    },
    {
      "cell_type": "code",
      "metadata": {
        "id": "V3S0RKnjHJnZ",
        "colab": {
          "base_uri": "https://localhost:8080/",
          "height": 283
        },
        "outputId": "cdf15c69-f5fa-4ebf-ae5b-ef964c0e3c77"
      },
      "source": [
        "plt.plot(r.history['loss'], label = 'loss')\n",
        "plt.plot(r.history['val_loss'], label = 'val_loss')\n",
        "plt.legend()"
      ],
      "execution_count": null,
      "outputs": [
        {
          "output_type": "execute_result",
          "data": {
            "text/plain": [
              "<matplotlib.legend.Legend at 0x7f761416c748>"
            ]
          },
          "metadata": {
            "tags": []
          },
          "execution_count": 15
        },
        {
          "output_type": "display_data",
          "data": {
            "image/png": "[encoded data removed]",
            "text/plain": [
              "<Figure size 432x288 with 1 Axes>"
            ]
          },
          "metadata": {
            "tags": [],
            "needs_background": "light"
          }
        }
      ]
    },
    {
      "cell_type": "code",
      "metadata": {
        "id": "zE8PwdsLHufY",
        "colab": {
          "base_uri": "https://localhost:8080/",
          "height": 35
        },
        "outputId": "90527896-ffea-450a-9c81-2d706d42deb2"
      },
      "source": [
        "predictions = model.predict(x_test)\n",
        "predictions = predictions.argmax(axis = 1)\n",
        "predictions.shape"
      ],
      "execution_count": null,
      "outputs": [
        {
          "output_type": "execute_result",
          "data": {
            "text/plain": [
              "(10000,)"
            ]
          },
          "metadata": {
            "tags": []
          },
          "execution_count": 51
        }
      ]
    },
    {
      "cell_type": "code",
      "metadata": {
        "id": "s7FkP2_HLlXo",
        "colab": {
          "base_uri": "https://localhost:8080/",
          "height": 208
        },
        "outputId": "8b303586-dce1-482f-81f6-d07ead75f29e"
      },
      "source": [
        "tf.math.confusion_matrix(y_test, predictions)"
      ],
      "execution_count": null,
      "outputs": [
        {
          "output_type": "execute_result",
          "data": {
            "text/plain": [
              "<tf.Tensor: shape=(10, 10), dtype=int32, numpy=\n",
              "array([[719,  28,  24,  16,  14,   5,   9,  16,  97,  72],\n",
              "       [ 16, 799,   4,   5,   4,   2,   6,   2,  30, 132],\n",
              "       [ 89,  11, 463,  63, 151,  81,  59,  36,  25,  22],\n",
              "       [ 31,  14,  46, 486,  82, 204,  40,  49,  16,  32],\n",
              "       [ 24,   3,  34,  53, 680,  35,  36, 115,  14,   6],\n",
              "       [ 17,   5,  43, 153,  61, 606,  11,  70,  14,  20],\n",
              "       [ 11,  10,  28,  85,  97,  26, 709,  11,  11,  12],\n",
              "       [ 10,   4,  28,  28,  52,  54,   5, 775,   4,  40],\n",
              "       [ 39,  28,   7,   9,  11,   2,   5,   5, 853,  41],\n",
              "       [ 19,  74,   5,   9,   5,   5,   6,  12,  22, 843]], dtype=int32)>"
            ]
          },
          "metadata": {
            "tags": []
          },
          "execution_count": 52
        }
      ]
    },
    {
      "cell_type": "code",
      "metadata": {
        "id": "tNE2R0xqL7Qk"
      },
      "source": [
        ""
      ],
      "execution_count": null,
      "outputs": []
    }
  ]
}